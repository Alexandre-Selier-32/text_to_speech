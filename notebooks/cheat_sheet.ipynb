{
 "cells": [
  {
   "cell_type": "code",
   "execution_count": null,
   "metadata": {},
   "outputs": [],
   "source": [
    "%%capture\n",
    "%load_ext autoreload\n",
    "%autoreload 2"
   ]
  },
  {
   "cell_type": "markdown",
   "metadata": {},
   "source": [
    "# Data Manipulation Cheat Sheet\n",
    "This notebook is designed to provide a quick and intuitive reference for the various data manipulation methods available in app/utils. "
   ]
  },
  {
   "cell_type": "code",
   "execution_count": null,
   "metadata": {},
   "outputs": [],
   "source": [
    "from app.utils.data import get_audio_files_from_ljspeech\n",
    "from app.params import PATH_LJ_AUDIOS\n",
    "\n",
    "\n",
    "audio_files_dict = get_audio_files_from_ljspeech(PATH_LJ_AUDIOS)\n",
    "# 3 premiers éléments de audio_files_dict\n",
    "#print(dict(list(audio_files_dict.items())[:3]))\n",
    "'''\n",
    "{'LJ007-0005': '/Users/ritam/Code/mernri/Final-Project/text_to_speech/raw_data/LJSpeech/wavs/LJ007-0005.wav',\n",
    " 'LJ038-0170': '/Users/ritam/Code/mernri/Final-Project/text_to_speech/raw_data/LJSpeech/wavs/LJ038-0170.wav',\n",
    " 'LJ028-0259': '/Users/ritam/Code/mernri/Final-Project/text_to_speech/raw_data/LJSpeech/wavs/LJ028-0259.wav'}\n",
    "'''"
   ]
  },
  {
   "cell_type": "code",
   "execution_count": null,
   "metadata": {},
   "outputs": [],
   "source": [
    "\n",
    "from app.utils.data import get_ljspeech_transcripts_from_metadata\n",
    "from app.params import PATH_LJ_CSV\n",
    "\n",
    "transcriptions_dict = get_ljspeech_transcripts_from_metadata(PATH_LJ_CSV)\n",
    "# 3 premiers éléments de transcriptions_dict\n",
    "#print(dict(list(transcriptions_dict.items())[:3]))\n",
    "'''\n",
    "{'LJ001-0001': 'Printing, in the only sense with which we are at present concerned, differs from most if not from all the arts and crafts represented in the Exhibition', \n",
    " 'LJ001-0002': 'in being comparatively modern.', \n",
    " 'LJ001-0003': 'For although the Chinese took impressions from wood blocks engraved in relief for centuries before the woodcutters of the Netherlands, by a similar process'}\n",
    "'''"
   ]
  },
  {
   "cell_type": "code",
   "execution_count": null,
   "metadata": {},
   "outputs": [],
   "source": [
    "\n",
    "from app.utils.text import get_cleaned_transcriptions\n",
    "\n",
    "cleaned_transcriptions_dict = get_cleaned_transcriptions(transcriptions_dict)\n",
    "# 3 premiers éléments de cleaned_transcriptions_dict\n",
    "#print(dict(list(cleaned_transcriptions_dict.items())[:3]))\n",
    "'''\n",
    "{'LJ001-0001': 'printing in the only sense with which we are at present concerned differs from most if not from all the arts and crafts represented in the exhibition',\n",
    " 'LJ001-0002': 'in being comparatively modern',\n",
    " 'LJ001-0003': 'for although the chinese took impressions from wood blocks engraved in relief for centuries before the woodcutters of the netherlands by a similar process'}\n",
    "'''"
   ]
  },
  {
   "cell_type": "code",
   "execution_count": null,
   "metadata": {},
   "outputs": [],
   "source": [
    "from app.utils.text import phonemize_transcripts, phonemize_transcripts\n",
    "from app.utils.data import get_ljspeech_transcripts_from_metadata\n",
    "from app.params import PATH_LJ_CSV\n",
    "\n",
    "phonemized_transcripts_dict = phonemize_transcripts(cleaned_transcriptions_dict)\n",
    "# 3 premiers éléments de phonemized_transcripts_dict\n",
    "print(dict(list(phonemized_transcripts_dict.items())[:3]))\n",
    "'''\n",
    "{'LJ001-0001': ['p', 'ɹ', 'ɪ', 'n', 't', 'ɪ', 'ŋ', 'ɪ', 'n', 'ð', 'ɪ', 'oʊ', 'n', 'l', 'i', 's', 'ɛ', 'n', 's', 'w', 'ɪ', 'ð', 'w', 'ɪ', 'tʃ', 'w', 'iː', 'ɑː', 'ɹ', 'æ', 't', 'p', 'ɹ', 'ɛ', 'z', 'ə', 'n', 't', 'k', 'ə', 'n', 's', 'ɜː', 'n', 'd', 'd', 'ɪ', 'f', 'ɚ', 'z', 'f', 'ɹ', 'ʌ', 'm', 'm', 'oʊ', 's', 't', 'ɪ', 'f', 'n', 'ɑː', 't', 'f', 'ɹ', 'ʌ', 'm', 'ɔː', 'l', 'ð', 'ɪ', 'ɑːɹ', 't', 's', 'æ', 'n', 'd', 'k', 'ɹ', 'æ', 'f', 't', 's', 'ɹ', 'ɛ', 'p', 'ɹ', 'ɪ', 'z', 'ɛ', 'n', 't', 'ᵻ', 'd', 'ɪ', 'n', 'ð', 'ɪ', 'ɛ', 'k', 's', 'ɪ', 'b', 'ɪ', 'ʃ', 'ə', 'n'], \n",
    "'LJ001-0002': ['ɪ', 'n', 'b', 'iː', 'ɪ', 'ŋ', 'k', 'ə', 'm', 'p', 'æ', 'ɹ', 'ə', 't', 'ɪ', 'v', 'l', 'i', 'm', 'ɑː', 'd', 'ɚ', 'n'], \n",
    "'LJ001-0003': ['f', 'ɔː', 'ɹ', 'ɑː', 'l', 'ð', 'oʊ', 'ð', 'ə', 'tʃ', 'aɪ', 'n', 'iː', 'z', 't', 'ʊ', 'k', 'ɪ', 'm', 'p', 'ɹ', 'ɛ', 'ʃ', 'ə', 'n', 'z', 'f', 'ɹ', 'ʌ', 'm', 'w', 'ʊ', 'd', 'b', 'l', 'ɑː', 'k', 's', 'ɛ', 'n', 'ɡ', 'ɹ', 'eɪ', 'v', 'd', 'ɪ', 'n', 'ɹ', 'ɪ', 'l', 'iː', 'f', 'f', 'ɔːɹ', 's', 'ɛ', 'n', 'tʃ', 'ɚ', 'ɹ', 'ɪ', 'z', 'b', 'ɪ', 'f', 'oːɹ', 'ð', 'ə', 'w', 'ʊ', 'd', 'k', 'ʌ', 'ɾ', 'ɚ', 'z', 'ʌ', 'v', 'ð', 'ə', 'n', 'ɛ', 'ð', 'ɚ', 'l', 'ə', 'n', 'd', 'z', 'b', 'aɪ', 'ɐ', 's', 'ɪ', 'm', 'ɪ', 'l', 'ɚ', 'p', 'ɹ', 'ɑː', 's', 'ɛ', 's']}\n",
    "'''"
   ]
  },
  {
   "cell_type": "code",
   "execution_count": null,
   "metadata": {},
   "outputs": [],
   "source": [
    "from app.utils.data import get_audio_duration_from_directory\n",
    "from app.params import PATH_LJ_AUDIOS\n",
    "\n",
    "audio_durations_dict = get_audio_duration_from_directory(PATH_LJ_AUDIOS)\n",
    "# 3 premiers éléments de audio_durations_dict\n",
    "print(dict(list(audio_durations_dict.items())[:3]))\n",
    "'''\n",
    "{'LJ007-0005': 7.19, \n",
    " 'LJ038-0170': 6.98, \n",
    " 'LJ028-0259': 6.53}\n",
    "'''"
   ]
  },
  {
   "cell_type": "code",
   "execution_count": null,
   "metadata": {},
   "outputs": [],
   "source": [
    "from app.utils.audio import get_sample_rates\n",
    "\n",
    "sample_rate = get_sample_rates(audio_files_dict)\n",
    "# Affiche le sample rate s'il est pareil pour tous les fichiers, la liste des sample rates sinon\n",
    "print(sample_rate)\n"
   ]
  },
  {
   "cell_type": "code",
   "execution_count": null,
   "metadata": {},
   "outputs": [],
   "source": [
    "from app.utils.data import get_melspecs_from_audio_files\n",
    "\n",
    "mel_specs_dict = get_melspecs_from_audio_files(audio_files_dict)\n",
    "# premier élément de mel_specs_dict\n",
    "print(dict(list(mel_specs_dict.items())[:1]))\n",
    "\n",
    "'''\n",
    "{'LJ007-0005': array([[-75.57607 , -80.      , -53.240578, ..., -80.      , -71.74692 ,\n",
    "         -76.93535 ],\n",
    "        [-75.67584 , -58.28623 , -46.927982, ..., -73.19204 , -59.91609 ,\n",
    "         -61.54372 ],\n",
    "        [-68.07897 , -52.340454, -42.40316 , ..., -66.66071 , -57.213406,\n",
    "         -53.527206],\n",
    "        ...,\n",
    "        [-80.      , -61.272587, -53.26967 , ..., -80.      , -80.      ,\n",
    "         -80.      ],\n",
    "        [-80.      , -63.889122, -57.910652, ..., -80.      , -80.      ,\n",
    "         -80.      ],\n",
    "        [-80.      , -67.44568 , -60.837082, ..., -80.      , -80.      ,\n",
    "         -80.      ]], dtype=float32)\n",
    "}\n",
    "'''"
   ]
  },
  {
   "cell_type": "code",
   "execution_count": null,
   "metadata": {},
   "outputs": [],
   "source": [
    "from app.utils.audio import waveform_to_mel_spectrogram_from_spectrum, display_mel_spectrogram\n",
    "\n",
    "audio_path = audio_files_dict['LJ001-0001']\n",
    "single_mel_spec = waveform_to_mel_spectrogram_from_spectrum(audio_path)\n",
    "# affiche le mel spectrogram d'un fichier audio\n",
    "display_mel_spectrogram(single_mel_spec)"
   ]
  },
  {
   "cell_type": "code",
   "execution_count": null,
   "metadata": {},
   "outputs": [],
   "source": [
    "from app.utils.data import make_ljspeech_dataframe\n",
    "from app.params import PATH_LJ_AUDIOS, PATH_LJ_CSV\n",
    "\n",
    "df = make_ljspeech_dataframe(PATH_LJ_AUDIOS, PATH_LJ_CSV)\n",
    "#3 premières lignes du dataframe qui contient audio_file, transcription, cleaned_transcription, phonems, duration, mel_spec\n",
    "df.head(3)"
   ]
  },
  {
   "cell_type": "code",
   "execution_count": null,
   "metadata": {},
   "outputs": [],
   "source": [
    "from app.utils.data import display_data_by_df_row\n",
    "\n",
    "# Affiche un récap des infos du dataframe qui concernent une ligne du dataframe\n",
    "display_data_by_df_row(df.iloc[0])"
   ]
  },
  {
   "cell_type": "code",
   "execution_count": null,
   "metadata": {},
   "outputs": [],
   "source": []
  },
  {
   "cell_type": "code",
   "execution_count": null,
   "metadata": {},
   "outputs": [],
   "source": []
  },
  {
   "cell_type": "code",
   "execution_count": null,
   "metadata": {},
   "outputs": [],
   "source": []
  }
 ],
 "metadata": {
  "kernelspec": {
   "display_name": "text_to_speech",
   "language": "python",
   "name": "python3"
  },
  "language_info": {
   "codemirror_mode": {
    "name": "ipython",
    "version": 3
   },
   "file_extension": ".py",
   "mimetype": "text/x-python",
   "name": "python",
   "nbconvert_exporter": "python",
   "pygments_lexer": "ipython3",
   "version": "3.10.6"
  },
  "orig_nbformat": 4
 },
 "nbformat": 4,
 "nbformat_minor": 2
}
