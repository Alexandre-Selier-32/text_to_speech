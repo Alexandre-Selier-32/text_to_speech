{
 "cells": [
  {
   "cell_type": "code",
   "execution_count": null,
   "metadata": {},
   "outputs": [],
   "source": [
    "%%capture\n",
    "%load_ext autoreload\n",
    "%autoreload 2"
   ]
  },
  {
   "cell_type": "markdown",
   "metadata": {},
   "source": [
    "# Data Manipulation Cheat Sheet\n",
    "This notebook is designed to provide a quick and intuitive reference for the various data manipulation methods available in app/utils. "
   ]
  },
  {
   "cell_type": "code",
   "execution_count": null,
   "metadata": {},
   "outputs": [],
   "source": [
    "from app.utils import *\n",
    "from app.params import *\n",
    "import numpy as np "
   ]
  },
  {
   "cell_type": "code",
   "execution_count": null,
   "metadata": {},
   "outputs": [],
   "source": [
    "\n",
    "\n",
    "audio_files_dict = get_audio_files_from_ljspeech(PATH_LJ_AUDIOS)\n",
    "# 3 premiers éléments de audio_files_dict\n",
    "#print(dict(list(audio_files_dict.items())[:3]))\n",
    "'''\n",
    "{'LJ007-0005': '/Users/ritam/Code/mernri/Final-Project/text_to_speech/raw_data/LJSpeech/wavs/LJ007-0005.wav',\n",
    " 'LJ038-0170': '/Users/ritam/Code/mernri/Final-Project/text_to_speech/raw_data/LJSpeech/wavs/LJ038-0170.wav',\n",
    " 'LJ028-0259': '/Users/ritam/Code/mernri/Final-Project/text_to_speech/raw_data/LJSpeech/wavs/LJ028-0259.wav'}\n",
    "'''"
   ]
  },
  {
   "cell_type": "code",
   "execution_count": null,
   "metadata": {},
   "outputs": [],
   "source": [
    "\n",
    "transcriptions_dict = get_ljspeech_transcripts_from_metadata(PATH_LJ_CSV)\n",
    "# 3 premiers éléments de transcriptions_dict\n",
    "#print(dict(list(transcriptions_dict.items())[:3]))\n",
    "'''\n",
    "{'LJ001-0001': 'Printing, in the only sense with which we are at present concerned, differs from most if not from all the arts and crafts represented in the Exhibition', \n",
    " 'LJ001-0002': 'in being comparatively modern.', \n",
    " 'LJ001-0003': 'For although the Chinese took impressions from wood blocks engraved in relief for centuries before the woodcutters of the Netherlands, by a similar process'}\n",
    "'''"
   ]
  },
  {
   "cell_type": "code",
   "execution_count": null,
   "metadata": {},
   "outputs": [],
   "source": [
    "\n",
    "cleaned_transcriptions_dict = get_cleaned_transcriptions(transcriptions_dict)\n",
    "# 3 premiers éléments de cleaned_transcriptions_dict\n",
    "#print(dict(list(cleaned_transcriptions_dict.items())[:3]))\n",
    "'''\n",
    "{'LJ001-0001': 'printing in the only sense with which we are at present concerned differs from most if not from all the arts and crafts represented in the exhibition',\n",
    " 'LJ001-0002': 'in being comparatively modern',\n",
    " 'LJ001-0003': 'for although the chinese took impressions from wood blocks engraved in relief for centuries before the woodcutters of the netherlands by a similar process'}\n",
    "'''"
   ]
  },
  {
   "cell_type": "code",
   "execution_count": null,
   "metadata": {},
   "outputs": [],
   "source": [
    "extended_phonems_dict = phonemize_transcripts(cleaned_transcriptions_dict)\n",
    "phonemized_transcripts_dict = phonems_transcript_to_49(extended_phonems_dict)\n",
    "# 3 premiers éléments de phonemized_transcripts_dict\n",
    "#print(dict(list(phonemized_transcripts_dict.items())[:3]))"
   ]
  },
  {
   "cell_type": "code",
   "execution_count": null,
   "metadata": {},
   "outputs": [],
   "source": [
    "tokenized_transcriptions_dict = get_tokens_from_phonems(phonemized_transcripts_dict, PATH_PHONES_MAPPING_LJSPEECH)"
   ]
  },
  {
   "cell_type": "code",
   "execution_count": null,
   "metadata": {},
   "outputs": [],
   "source": [
    "padded_tokens_dict = get_padded_tokenized_transcripts(PATH_LJ_CSV, PATH_PHONES_MAPPING_LJSPEECH)"
   ]
  },
  {
   "cell_type": "code",
   "execution_count": null,
   "metadata": {},
   "outputs": [],
   "source": [
    "# check if all padded_tokens_dict values have the same shape\n",
    "have_same_shape(padded_tokens_dict)"
   ]
  },
  {
   "cell_type": "code",
   "execution_count": null,
   "metadata": {},
   "outputs": [],
   "source": [
    "audio_durations_dict = get_audio_duration_from_directory(PATH_LJ_AUDIOS)\n",
    "# 3 premiers éléments de audio_durations_dict\n",
    "print(dict(list(audio_durations_dict.items())[:3]))\n",
    "'''\n",
    "{'LJ007-0005': 7.19, \n",
    " 'LJ038-0170': 6.98, \n",
    " 'LJ028-0259': 6.53}\n",
    "'''\n",
    "\n",
    "print(max(audio_durations_dict.values()))"
   ]
  },
  {
   "cell_type": "code",
   "execution_count": null,
   "metadata": {},
   "outputs": [],
   "source": [
    "audio_durations = np.array(list(audio_durations_dict.values()))\n",
    "MAX_95_DURATION = int(np.percentile(audio_durations, 95))\n",
    "MIN_5_DURATION = int(np.percentile(audio_durations, 5))\n",
    "MAX_DURATION = int(np.max(audio_durations))\n",
    "\n",
    "print('MAX 95 percentile DURATION', MAX_95_DURATION)\n",
    "print('MIN 5 pecentile DURATION', MIN_5_DURATION)\n",
    "print('MAX_DURATION', MAX_DURATION)"
   ]
  },
  {
   "cell_type": "code",
   "execution_count": null,
   "metadata": {},
   "outputs": [],
   "source": [
    "have_same_sample_rate(audio_files_dict)\n"
   ]
  },
  {
   "cell_type": "code",
   "execution_count": null,
   "metadata": {},
   "outputs": [],
   "source": [
    "mel_specs_dict = get_melspecs_from_audio_files(audio_files_dict)\n",
    "# premier élément de mel_specs_dict\n",
    "print(dict(list(mel_specs_dict.items())[:1]))\n",
    "\n",
    "'''\n",
    "{'LJ007-0005': array([[-75.57607 , -80.      , -53.240578, ..., -80.      , -71.74692 ,\n",
    "         -76.93535 ],\n",
    "        [-75.67584 , -58.28623 , -46.927982, ..., -73.19204 , -59.91609 ,\n",
    "         -61.54372 ],\n",
    "        [-68.07897 , -52.340454, -42.40316 , ..., -66.66071 , -57.213406,\n",
    "         -53.527206],\n",
    "        ...,\n",
    "        [-80.      , -61.272587, -53.26967 , ..., -80.      , -80.      ,\n",
    "         -80.      ],\n",
    "        [-80.      , -63.889122, -57.910652, ..., -80.      , -80.      ,\n",
    "         -80.      ],\n",
    "        [-80.      , -67.44568 , -60.837082, ..., -80.      , -80.      ,\n",
    "         -80.      ]], dtype=float32)\n",
    "}\n",
    "'''"
   ]
  },
  {
   "cell_type": "code",
   "execution_count": null,
   "metadata": {},
   "outputs": [],
   "source": [
    "padded_melspecs_dict = get_padded_melspecs_dict(mel_specs_dict)\n"
   ]
  },
  {
   "cell_type": "code",
   "execution_count": null,
   "metadata": {},
   "outputs": [],
   "source": [
    "# check if all padded_melspecs_dict values have the same shape\n",
    "''' \n",
    "80 représente le nombre de bandes de fréquence (N_MELS).\n",
    "870 représente le nombre de trames ou de pas de temps (résolution temporelle).\n",
    "'''\n",
    "have_same_shape(padded_melspecs_dict)\n"
   ]
  },
  {
   "cell_type": "code",
   "execution_count": null,
   "metadata": {},
   "outputs": [],
   "source": [
    "audio_path = audio_files_dict['LJ001-0001']\n",
    "single_mel_spec = waveform_to_mel_spectrogram_from_spectrum(audio_path)\n",
    "display_mel_spectrogram(single_mel_spec)"
   ]
  },
  {
   "cell_type": "code",
   "execution_count": null,
   "metadata": {},
   "outputs": [],
   "source": [
    "single_padded_mel_spec = padded_melspecs_dict['LJ001-0001']\n",
    "display_mel_spectrogram(single_padded_mel_spec)"
   ]
  },
  {
   "cell_type": "code",
   "execution_count": null,
   "metadata": {},
   "outputs": [],
   "source": []
  }
 ],
 "metadata": {
  "kernelspec": {
   "display_name": "text_to_speech",
   "language": "python",
   "name": "python3"
  },
  "language_info": {
   "codemirror_mode": {
    "name": "ipython",
    "version": 3
   },
   "file_extension": ".py",
   "mimetype": "text/x-python",
   "name": "python",
   "nbconvert_exporter": "python",
   "pygments_lexer": "ipython3",
   "version": "3.10.6"
  },
  "orig_nbformat": 4
 },
 "nbformat": 4,
 "nbformat_minor": 2
}
